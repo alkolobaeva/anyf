{
 "cells": [
  {
   "cell_type": "code",
   "execution_count": null,
   "metadata": {},
   "outputs": [],
   "source": [
    "# TRAINING SCRIPT\n",
    "# Import and parameter section\n",
    "import pandas as pd\n",
    "import numpy as np\n",
    "import matplotlib.pyplot as pyplot\n",
    "from sklearn.model_selection import train_test_split\n",
    "\n",
    "from sklearn.ensemble import RandomForestClassifier\n",
    "from sklearn.metrics import accuracy_score\n",
    "from sklearn.preprocessing import MinMaxScaler\n",
    "from sklearn.decomposition import PCA\n",
    "from sklearn.metrics import confusion_matrix\n",
    "from matplotlib import pyplot as plt\n",
    "import seaborn as sns\n",
    "from sklearn.model_selection import GridSearchCV\n",
    "from sklearn.neighbors import KNeighborsClassifier\n",
    "import glob\n",
    "from imblearn.over_sampling import RandomOverSampler\n",
    "import glob\n",
    "import pickle\n",
    "from sklearn import metrics\n",
    "from scipy import stats"
   ]
  },
  {
   "cell_type": "code",
   "execution_count": null,
   "metadata": {},
   "outputs": [],
   "source": [
    "file_name = glob.glob('../data/*.csv')\n",
    "df = pd.read_csv(file_name[0],  sep = \",\")"
   ]
  },
  {
   "cell_type": "code",
   "execution_count": null,
   "metadata": {},
   "outputs": [],
   "source": [
    "df.dropna(inplace=True)\n",
    "cols_to_drop = ['id','debt_requests_count','housing_base_cost',\n",
    "                'a_mal_count','a_mal_active_amount',\n",
    "                'e_mal_count','e_mal_active_amount',\n",
    "                'contact_channel', 'blanco_amount',\n",
    "               'inquiries_count','credit_card_amount', 'credit_used','income_employment',\n",
    "               'income_tax','creditors_count','salary_surplus', 'capital_deduction',\n",
    "               'credit_count','income_gross',\n",
    "               'loan_type','customer_postal']\n",
    "\n",
    "df.drop(cols_to_drop, inplace=True, axis=1)\n"
   ]
  },
  {
   "cell_type": "code",
   "execution_count": null,
   "metadata": {},
   "outputs": [],
   "source": [
    "# Convert big_city column to boolean\n",
    "bc_dict = {'f': 0, 't': 1}\n",
    "df.big_city = df.big_city.map(bc_dict) \n",
    "\n",
    "# Drop outliers\n",
    "df = df[(np.abs(stats.zscore(df)) < 3).all(axis=1)]"
   ]
  },
  {
   "cell_type": "code",
   "execution_count": null,
   "metadata": {},
   "outputs": [],
   "source": [
    "# Prepare features and label\n",
    "y = df.pop('target')\n",
    "x = df.copy()"
   ]
  },
  {
   "cell_type": "code",
   "execution_count": null,
   "metadata": {},
   "outputs": [],
   "source": [
    "# Perform oversampling to balance the classes\n",
    "ros = RandomOverSampler(random_state=0)\n",
    "X, Y = ros.fit_resample(x, y)\n",
    "\n",
    "# Divide data into test and training\n",
    "test_size = 0.25\n",
    "seed = 7\n",
    "X_train, X_test, y_train, y_test =  train_test_split(X, Y, test_size=test_size, random_state=seed)"
   ]
  },
  {
   "cell_type": "code",
   "execution_count": null,
   "metadata": {},
   "outputs": [],
   "source": [
    "# # Parameter tuning\n",
    "\n",
    "# param_grid = {'bootstrap': [True, False],\n",
    "#  'max_depth': [10, 20, 30, 40, 50, 60, 70, 80, 90, 100, None],\n",
    "#  'max_features': ['auto', 'sqrt'],\n",
    "#  'min_samples_leaf': [1, 2, 4],\n",
    "#  'min_samples_split': [2, 5, 10],\n",
    "#  'n_estimators': [200, 400, 600, 800, 1000, 1200, 1400, 1600, 1800, 2000]}\n",
    "\n",
    "# gsc = GridSearchCV(\n",
    "#         estimator=RandomForestClassifier(),\n",
    "#         param_grid=param_grid,\n",
    "#         cv=5, scoring='neg_mean_squared_error', verbose=0, n_jobs=-1)\n",
    "\n",
    "# gsc.fit(X_train, y_train)\n",
    "\n",
    "#print(gsc.best_params_)"
   ]
  },
  {
   "cell_type": "code",
   "execution_count": null,
   "metadata": {},
   "outputs": [],
   "source": [
    "# Train RF\n",
    "model = RandomForestClassifier(bootstrap=True, max_depth=80, max_features='sqrt',\n",
    "                               min_samples_leaf=1, min_samples_split=5, \n",
    "                               n_estimators=1200, n_jobs= -1)\n",
    "model.fit(X_train, y_train)\n",
    "predictions = model.predict(X_test)\n",
    "print(accuracy_score(y_test, predictions))"
   ]
  },
  {
   "cell_type": "code",
   "execution_count": null,
   "metadata": {},
   "outputs": [],
   "source": [
    "# Display confusion matrix to investigate result\n",
    "df_cm = confusion_matrix(y_test, predictions)\n",
    "plt.figure(figsize = (10,7))\n",
    "sns.heatmap(df_cm, annot=True)"
   ]
  },
  {
   "cell_type": "code",
   "execution_count": null,
   "metadata": {},
   "outputs": [],
   "source": [
    "# Produce small report on performance\n",
    "print('Mean Squared Error:', metrics.mean_squared_error(y_test, predictions))  \n",
    "print('Mean Absolute Error:', metrics.mean_absolute_error(y_test, predictions))  \n",
    "print('Root Mean Squared Error:', np.sqrt(metrics.mean_squared_error(y_test, predictions)))\n",
    "print('R2:', metrics.r2_score(y_test, predictions))"
   ]
  },
  {
   "cell_type": "code",
   "execution_count": null,
   "metadata": {},
   "outputs": [],
   "source": [
    "# Save the model\n",
    "pickle.dump(model, open('../models/model.pickle', 'wb'))"
   ]
  },
  {
   "cell_type": "code",
   "execution_count": null,
   "metadata": {},
   "outputs": [],
   "source": [
    "# Create and save report csv \n",
    "prob = model.predict_proba(X_test)\n",
    "pr = pd.Series([el[1] for el in prob])\n",
    "report = pd.concat([pd.Series(y_test), pr], axis=1, ignore_index=True)\n",
    "report.columns = ['target','pd']\n",
    "df.to_csv('../data/report.csv', index=False)  "
   ]
  }
 ],
 "metadata": {
  "kernelspec": {
   "display_name": "Python 3",
   "language": "python",
   "name": "python3"
  },
  "language_info": {
   "codemirror_mode": {
    "name": "ipython",
    "version": 3
   },
   "file_extension": ".py",
   "mimetype": "text/x-python",
   "name": "python",
   "nbconvert_exporter": "python",
   "pygments_lexer": "ipython3",
   "version": "3.7.4"
  }
 },
 "nbformat": 4,
 "nbformat_minor": 2
}
